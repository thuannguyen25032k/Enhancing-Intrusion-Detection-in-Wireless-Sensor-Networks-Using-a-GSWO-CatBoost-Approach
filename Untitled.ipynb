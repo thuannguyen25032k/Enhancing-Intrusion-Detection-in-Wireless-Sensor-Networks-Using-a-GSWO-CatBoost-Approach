{
 "cells": [
  {
   "cell_type": "code",
   "execution_count": 1,
   "id": "0e2de96e-b3f0-4a2b-a0ad-f2e46e5dd0df",
   "metadata": {
    "tags": []
   },
   "outputs": [],
   "source": [
    "import os\n",
    "import numpy as np\n",
    "import pandas as pd\n",
    "\n",
    "import tensorflow as tf\n",
    "from tensorflow import keras\n",
    "\n",
    "import pickle # saving and loading trained model\n",
    "from os import path\n",
    "\n",
    "# importing required libraries for normalizing data\n",
    "from sklearn import preprocessing\n",
    "from sklearn.preprocessing import StandardScaler\n",
    "\n",
    "# importing library for plotting\n",
    "import matplotlib.pyplot as plt\n",
    "import seaborn as sn\n",
    "\n",
    "from sklearn import metrics\n",
    "from sklearn.metrics import accuracy_score # for calculating accuracy of model\n",
    "from sklearn.model_selection import train_test_split # for splitting the dataset for training and testing\n",
    "from sklearn.metrics import classification_report # for generating a classification report of model\n",
    "\n",
    "from sklearn.metrics import precision_score\n",
    "from sklearn.metrics import recall_score\n",
    "from sklearn.metrics import f1_score\n",
    "from sklearn.metrics import confusion_matrix\n",
    "\n",
    "from sklearn.metrics import roc_auc_score\n",
    "from sklearn.metrics import roc_curve, auc\n",
    "\n",
    "from keras.layers import Dropout, Activation, Flatten, Convolution1D, Dropout, Reshape\n",
    "from keras.layers import Dense # importing dense layer\n",
    "from keras.models import Sequential #importing Sequential layer"
   ]
  },
  {
   "cell_type": "code",
   "execution_count": 2,
   "id": "101e6d6a-270b-43e6-9175-b26c4378b11b",
   "metadata": {
    "tags": []
   },
   "outputs": [
    {
     "name": "stdout",
     "output_type": "stream",
     "text": [
      "No GPU device found\n"
     ]
    }
   ],
   "source": [
    "gpus = tf.config.experimental.list_physical_devices('GPU')\n",
    "if gpus:\n",
    "    for gpu in gpus:\n",
    "        tf.config.experimental.set_memory_growth(gpu, True)\n",
    "        print(gpu, \"\\n\")\n",
    "else:\n",
    "    print(\"No GPU device found\")"
   ]
  },
  {
   "cell_type": "code",
   "execution_count": 3,
   "id": "4168e5fb-ec14-4d05-84ad-af3f65b7d383",
   "metadata": {
    "tags": []
   },
   "outputs": [
    {
     "name": "stdout",
     "output_type": "stream",
     "text": [
      "Mon Jan 15 17:07:29 2024       \n",
      "+-----------------------------------------------------------------------------+\n",
      "| NVIDIA-SMI 517.48       Driver Version: 517.48       CUDA Version: 11.7     |\n",
      "|-------------------------------+----------------------+----------------------+\n",
      "| GPU  Name            TCC/WDDM | Bus-Id        Disp.A | Volatile Uncorr. ECC |\n",
      "| Fan  Temp  Perf  Pwr:Usage/Cap|         Memory-Usage | GPU-Util  Compute M. |\n",
      "|                               |                      |               MIG M. |\n",
      "|===============================+======================+======================|\n",
      "|   0  NVIDIA GeForce ... WDDM  | 00000000:01:00.0  On |                  N/A |\n",
      "| 39%   37C    P8    16W / 155W |   1034MiB /  6144MiB |      1%      Default |\n",
      "|                               |                      |                  N/A |\n",
      "+-------------------------------+----------------------+----------------------+\n",
      "                                                                               \n",
      "+-----------------------------------------------------------------------------+\n",
      "| Processes:                                                                  |\n",
      "|  GPU   GI   CI        PID   Type   Process name                  GPU Memory |\n",
      "|        ID   ID                                                   Usage      |\n",
      "|=============================================================================|\n",
      "|    0   N/A  N/A      2252    C+G   ...ect\\SafeConnect.Entry.exe    N/A      |\n",
      "|    0   N/A  N/A      7144    C+G   ...logioptionsplus_agent.exe    N/A      |\n",
      "|    0   N/A  N/A      7432    C+G   ...cw5n1h2txyewy\\LockApp.exe    N/A      |\n",
      "|    0   N/A  N/A      9288    C+G   ...e\\PhoneExperienceHost.exe    N/A      |\n",
      "|    0   N/A  N/A      9976    C+G   ...10.121\\msedgewebview2.exe    N/A      |\n",
      "|    0   N/A  N/A     10448    C+G   ...lPanel\\SystemSettings.exe    N/A      |\n",
      "|    0   N/A  N/A     11360    C+G   ...wekyb3d8bbwe\\ms-teams.exe    N/A      |\n",
      "|    0   N/A  N/A     11608    C+G   ...10.133\\msedgewebview2.exe    N/A      |\n",
      "|    0   N/A  N/A     12264    C+G   ...10.121\\msedgewebview2.exe    N/A      |\n",
      "|    0   N/A  N/A     12656    C+G   ...09mmv6hy\\Build\\Lively.exe    N/A      |\n",
      "|    0   N/A  N/A     13940    C+G   ...me\\Application\\chrome.exe    N/A      |\n",
      "|    0   N/A  N/A     15184    C+G   ...artMenuExperienceHost.exe    N/A      |\n",
      "|    0   N/A  N/A     15908    C+G   ...y\\ShellExperienceHost.exe    N/A      |\n",
      "|    0   N/A  N/A     17056    C+G   ...oft OneDrive\\OneDrive.exe    N/A      |\n",
      "|    0   N/A  N/A     17080    C+G   ...alo\\Zalo-23.12.1\\Zalo.exe    N/A      |\n",
      "|    0   N/A  N/A     18712    C+G   ...ge\\Application\\msedge.exe    N/A      |\n",
      "|    0   N/A  N/A     19756    C+G   ...we\\XboxGameBarWidgets.exe    N/A      |\n",
      "|    0   N/A  N/A     21116    C+G   ...gins\\capture\\ZaviMeet.exe    N/A      |\n",
      "|    0   N/A  N/A     21692    C+G   ...mathpix-snipping-tool.exe    N/A      |\n",
      "|    0   N/A  N/A     22324    C+G   C:\\Windows\\explorer.exe         N/A      |\n",
      "|    0   N/A  N/A     22908    C+G   ...2txyewy\\TextInputHost.exe    N/A      |\n",
      "|    0   N/A  N/A     22988    C+G   ...gins\\capture\\ZaloCall.exe    N/A      |\n",
      "|    0   N/A  N/A     24100    C+G   ...wekyb3d8bbwe\\Video.UI.exe    N/A      |\n",
      "|    0   N/A  N/A     25836    C+G   ...ray\\lghub_system_tray.exe    N/A      |\n",
      "|    0   N/A  N/A     26472    C+G   ...icrosoft VS Code\\Code.exe    N/A      |\n",
      "|    0   N/A  N/A     26492    C+G   ...10.121\\msedgewebview2.exe    N/A      |\n",
      "|    0   N/A  N/A     27656    C+G   ...a0\\XboxGameBarSpotify.exe    N/A      |\n",
      "|    0   N/A  N/A     28196    C+G   ...n1h2txyewy\\SearchHost.exe    N/A      |\n",
      "|    0   N/A  N/A     32412    C+G   ...8bbwe\\WindowsTerminal.exe    N/A      |\n",
      "|    0   N/A  N/A     36832    C+G   ...e\\root\\Office16\\EXCEL.EXE    N/A      |\n",
      "+-----------------------------------------------------------------------------+\n"
     ]
    }
   ],
   "source": [
    "!nvidia-smi"
   ]
  },
  {
   "cell_type": "code",
   "execution_count": 4,
   "id": "3b09cb9f-6542-4505-805b-2fc366e15ec1",
   "metadata": {
    "tags": []
   },
   "outputs": [
    {
     "name": "stdout",
     "output_type": "stream",
     "text": [
      "Welcome!\n"
     ]
    }
   ],
   "source": [
    "from data_preprocessing import WSNDS_processing, KDD_processing, UNSW_NB15_processing, CICIDS2017_processing, WSNBFSF_processing, CICIDS2019_processing"
   ]
  },
  {
   "cell_type": "code",
   "execution_count": 5,
   "id": "4b47f2fc-0fe3-4834-8231-73f67c7decc8",
   "metadata": {
    "tags": []
   },
   "outputs": [
    {
     "name": "stdout",
     "output_type": "stream",
     "text": [
      "y_total: Benign          325681\n",
      "DoS/DDoS        320269\n",
      "PortScan         57305\n",
      "Brute Force       8551\n",
      "Web Attack        2118\n",
      "Botnet ARES       1943\n",
      "Infiltration        36\n",
      "Name: label_category, dtype: int64, y_test: Benign          65266\n",
      "DoS/DDoS        63868\n",
      "PortScan        11526\n",
      "Brute Force      1727\n",
      "Web Attack        402\n",
      "Botnet ARES       382\n",
      "Infiltration        9\n",
      "Name: label_category, dtype: int64\n"
     ]
    }
   ],
   "source": [
    "data_dir = \"./data/CICIDS17/MachineLearningCSV\"\n",
    "(X_train, y_train), (X_valid, y_valid), (X_test, y_test) = CICIDS2017_processing(data_dir)"
   ]
  },
  {
   "cell_type": "code",
   "execution_count": null,
   "id": "afabfc32-0224-44ec-b583-9102000506a8",
   "metadata": {},
   "outputs": [],
   "source": []
  },
  {
   "cell_type": "code",
   "execution_count": 6,
   "id": "cadeeaa8-1018-4960-9977-cdccae944908",
   "metadata": {
    "tags": []
   },
   "outputs": [],
   "source": [
    "from sklearn.preprocessing import OneHotEncoder, StandardScaler, LabelEncoder\n",
    "labelencoder = LabelEncoder()\n",
    "y_train_temp = labelencoder.fit_transform(y_train)\n",
    "y_valid_temp = labelencoder.fit_transform(y_valid)\n",
    "y_test_temp = labelencoder.fit_transform(y_test)\n",
    "\n",
    "# clm=['protocol_type', 'service', 'flag']\n",
    "# for x in clm:\n",
    "#     le = LabelEncoder()\n",
    "#     X_train[x]=le.fit_transform(X_train[x])\n",
    "#     X_valid[x]=le.fit_transform(X_valid[x])\n",
    "#     X_test[x]=le.fit_transform(X_test[x])\n",
    "\n",
    "y_train = np.zeros((y_train_temp.size, y_train_temp.max() + 1))\n",
    "y_train[np.arange(y_train_temp.size), y_train_temp] = 1\n",
    "y_valid = np.zeros((y_valid_temp.size, y_valid_temp.max() + 1))\n",
    "y_valid[np.arange(y_valid_temp.size), y_valid_temp] = 1\n",
    "y_test = np.zeros((y_test_temp.size, y_test_temp.max() + 1))\n",
    "y_test[np.arange(y_test_temp.size), y_test_temp] = 1"
   ]
  },
  {
   "cell_type": "code",
   "execution_count": 7,
   "id": "6c71f1d6-fdf4-48b4-bba2-67e3410f9e51",
   "metadata": {
    "tags": []
   },
   "outputs": [],
   "source": [
    "_features = X_train.shape[1]\n",
    "n_classes = y_train.shape[1]"
   ]
  },
  {
   "cell_type": "code",
   "execution_count": 8,
   "id": "1bf81698-e6ff-4c17-8082-570c2b8f281d",
   "metadata": {
    "tags": []
   },
   "outputs": [
    {
     "data": {
      "text/plain": [
       "67"
      ]
     },
     "execution_count": 8,
     "metadata": {},
     "output_type": "execute_result"
    }
   ],
   "source": [
    "_features"
   ]
  },
  {
   "cell_type": "code",
   "execution_count": 9,
   "id": "6693c229-59c9-4c9f-931f-cd5bd849f419",
   "metadata": {
    "tags": []
   },
   "outputs": [
    {
     "data": {
      "text/plain": [
       "7"
      ]
     },
     "execution_count": 9,
     "metadata": {},
     "output_type": "execute_result"
    }
   ],
   "source": [
    "n_classes"
   ]
  },
  {
   "cell_type": "markdown",
   "id": "64db3853-e31e-41da-9f2f-99352a87e59e",
   "metadata": {},
   "source": [
    "## SVM"
   ]
  },
  {
   "cell_type": "code",
   "execution_count": 76,
   "id": "2e6a5c42-865a-4770-83a3-4c8e405492dd",
   "metadata": {
    "tags": []
   },
   "outputs": [],
   "source": [
    "from sklearn.svm import SVC\n",
    "import timeit"
   ]
  },
  {
   "cell_type": "code",
   "execution_count": 77,
   "id": "32744b32-4ca2-4a97-85db-ea180acbe056",
   "metadata": {
    "tags": []
   },
   "outputs": [
    {
     "name": "stdout",
     "output_type": "stream",
     "text": [
      "Training the SVM Classifier.......\n",
      "The time difference is : 2292.791356999951\n",
      "Predicting test data.......\n",
      "Inference time:  252.72543569997652\n"
     ]
    }
   ],
   "source": [
    "clf_svc = SVC(kernel='poly', degree=1, C=3)  # using poly for kernel\n",
    "\n",
    "# start timer\n",
    "training_starttime = timeit.default_timer()\n",
    "\n",
    "print(\"Training the SVM Classifier.......\")\n",
    "\n",
    "# train SVC\n",
    "clf_svc = clf_svc.fit(X_train, y_train)\n",
    "\n",
    "training_time = timeit.default_timer() - training_starttime\n",
    "print(\"The time difference is :\", training_time)\n",
    "\n",
    "print(\"Predicting test data.......\")\n",
    "\n",
    "# predict\n",
    "predicting_starttime = timeit.default_timer()\n",
    "pred_y = clf_svc.predict(X_test)\n",
    "predicting_time = timeit.default_timer() - predicting_starttime\n",
    "\n",
    "print(\"Inference time: \", predicting_time)"
   ]
  },
  {
   "cell_type": "markdown",
   "id": "0e5c2fb1-910a-45ab-8867-d76586b59000",
   "metadata": {
    "tags": []
   },
   "source": [
    "## DNN"
   ]
  },
  {
   "cell_type": "code",
   "execution_count": 10,
   "id": "0e453b5f-c331-469e-8aac-807aa28c6ff4",
   "metadata": {
    "tags": []
   },
   "outputs": [],
   "source": [
    "# In order to ignore FutureWarning\n",
    "import warnings\n",
    "warnings.simplefilter(action='ignore', category=FutureWarning)\n",
    "warnings.simplefilter(action='ignore', category=DeprecationWarning)\n",
    "\n",
    "from keras.models import Sequential\n",
    "from keras import callbacks\n",
    "from keras.layers import Dense, Activation, Flatten, Convolution1D, Dropout, GRU\n",
    "from sklearn import metrics\n",
    "\n",
    "import uuid\n",
    "import gc\n",
    "from tensorflow import keras\n",
    "import tensorflow as tf"
   ]
  },
  {
   "cell_type": "code",
   "execution_count": 11,
   "id": "fe963bd0-cf69-40db-9e05-a8a0da37c1a4",
   "metadata": {
    "tags": []
   },
   "outputs": [
    {
     "name": "stdout",
     "output_type": "stream",
     "text": [
      "Model: \"sequential\"\n",
      "_________________________________________________________________\n",
      " Layer (type)                Output Shape              Param #   \n",
      "=================================================================\n",
      " dense (Dense)               (None, 128)               8704      \n",
      "                                                                 \n",
      " dropout (Dropout)           (None, 128)               0         \n",
      "                                                                 \n",
      " dense_1 (Dense)             (None, 256)               33024     \n",
      "                                                                 \n",
      " dropout_1 (Dropout)         (None, 256)               0         \n",
      "                                                                 \n",
      " dense_2 (Dense)             (None, 128)               32896     \n",
      "                                                                 \n",
      " dropout_2 (Dropout)         (None, 128)               0         \n",
      "                                                                 \n",
      " dense_3 (Dense)             (None, 7)                 903       \n",
      "                                                                 \n",
      " dense_4 (Dense)             (None, 7)                 56        \n",
      "                                                                 \n",
      " activation (Activation)     (None, 7)                 0         \n",
      "                                                                 \n",
      "=================================================================\n",
      "Total params: 75583 (295.25 KB)\n",
      "Trainable params: 75583 (295.25 KB)\n",
      "Non-trainable params: 0 (0.00 Byte)\n",
      "_________________________________________________________________\n",
      "Epoch 1/30\n",
      "2797/2797 [==============================] - 10s 3ms/step - loss: 0.0782 - accuracy: 0.9003 - val_loss: 0.0300 - val_accuracy: 0.9649\n",
      "Epoch 2/30\n",
      "2797/2797 [==============================] - 9s 3ms/step - loss: 0.0293 - accuracy: 0.9646 - val_loss: 0.0235 - val_accuracy: 0.9685\n",
      "Epoch 3/30\n",
      "2797/2797 [==============================] - 9s 3ms/step - loss: 0.0244 - accuracy: 0.9689 - val_loss: 0.0205 - val_accuracy: 0.9712\n",
      "Epoch 4/30\n",
      "2797/2797 [==============================] - 9s 3ms/step - loss: 0.0220 - accuracy: 0.9710 - val_loss: 0.0188 - val_accuracy: 0.9745\n",
      "Epoch 5/30\n",
      "2797/2797 [==============================] - 9s 3ms/step - loss: 0.0202 - accuracy: 0.9731 - val_loss: 0.0173 - val_accuracy: 0.9764\n",
      "Epoch 6/30\n",
      "2797/2797 [==============================] - 9s 3ms/step - loss: 0.0191 - accuracy: 0.9748 - val_loss: 0.0162 - val_accuracy: 0.9796\n",
      "Epoch 7/30\n",
      "2797/2797 [==============================] - 9s 3ms/step - loss: 0.0180 - accuracy: 0.9761 - val_loss: 0.0153 - val_accuracy: 0.9799\n",
      "Epoch 8/30\n",
      "2797/2797 [==============================] - 9s 3ms/step - loss: 0.0170 - accuracy: 0.9774 - val_loss: 0.0152 - val_accuracy: 0.9783\n",
      "Epoch 9/30\n",
      "2797/2797 [==============================] - 9s 3ms/step - loss: 0.0163 - accuracy: 0.9781 - val_loss: 0.0142 - val_accuracy: 0.9829\n",
      "Epoch 10/30\n",
      "2797/2797 [==============================] - 10s 3ms/step - loss: 0.0157 - accuracy: 0.9788 - val_loss: 0.0134 - val_accuracy: 0.9817\n",
      "Epoch 11/30\n",
      "2797/2797 [==============================] - 10s 4ms/step - loss: 0.0154 - accuracy: 0.9797 - val_loss: 0.0130 - val_accuracy: 0.9830\n",
      "Epoch 12/30\n",
      "2797/2797 [==============================] - 9s 3ms/step - loss: 0.0146 - accuracy: 0.9804 - val_loss: 0.0128 - val_accuracy: 0.9821\n",
      "Epoch 13/30\n",
      "2797/2797 [==============================] - 9s 3ms/step - loss: 0.0142 - accuracy: 0.9810 - val_loss: 0.0124 - val_accuracy: 0.9837\n",
      "Epoch 14/30\n",
      "2797/2797 [==============================] - 9s 3ms/step - loss: 0.0137 - accuracy: 0.9817 - val_loss: 0.0118 - val_accuracy: 0.9848\n",
      "Epoch 15/30\n",
      "2797/2797 [==============================] - 9s 3ms/step - loss: 0.0132 - accuracy: 0.9823 - val_loss: 0.0115 - val_accuracy: 0.9850\n",
      "Epoch 16/30\n",
      "2797/2797 [==============================] - 9s 3ms/step - loss: 0.0128 - accuracy: 0.9828 - val_loss: 0.0111 - val_accuracy: 0.9854\n",
      "Epoch 17/30\n",
      "2797/2797 [==============================] - 9s 3ms/step - loss: 0.0123 - accuracy: 0.9835 - val_loss: 0.0107 - val_accuracy: 0.9860\n",
      "Epoch 18/30\n",
      "2797/2797 [==============================] - 9s 3ms/step - loss: 0.0119 - accuracy: 0.9840 - val_loss: 0.0118 - val_accuracy: 0.9828\n",
      "Epoch 19/30\n",
      "2797/2797 [==============================] - 9s 3ms/step - loss: 0.0117 - accuracy: 0.9844 - val_loss: 0.0103 - val_accuracy: 0.9860\n",
      "Epoch 20/30\n",
      "2797/2797 [==============================] - 9s 3ms/step - loss: 0.0114 - accuracy: 0.9845 - val_loss: 0.0099 - val_accuracy: 0.9868\n",
      "Epoch 21/30\n",
      "2797/2797 [==============================] - 9s 3ms/step - loss: 0.0112 - accuracy: 0.9849 - val_loss: 0.0100 - val_accuracy: 0.9866\n",
      "Epoch 22/30\n",
      "2797/2797 [==============================] - 9s 3ms/step - loss: 0.0110 - accuracy: 0.9851 - val_loss: 0.0103 - val_accuracy: 0.9852\n",
      "Epoch 23/30\n",
      "2797/2797 [==============================] - 9s 3ms/step - loss: 0.0107 - accuracy: 0.9855 - val_loss: 0.0095 - val_accuracy: 0.9875\n",
      "Epoch 24/30\n",
      "2797/2797 [==============================] - 9s 3ms/step - loss: 0.0105 - accuracy: 0.9856 - val_loss: 0.0094 - val_accuracy: 0.9878\n",
      "Epoch 25/30\n",
      "2797/2797 [==============================] - 9s 3ms/step - loss: 0.0104 - accuracy: 0.9857 - val_loss: 0.0091 - val_accuracy: 0.9877\n",
      "Epoch 26/30\n",
      "2797/2797 [==============================] - 9s 3ms/step - loss: 0.0102 - accuracy: 0.9861 - val_loss: 0.0091 - val_accuracy: 0.9875\n",
      "Epoch 27/30\n",
      "2797/2797 [==============================] - 9s 3ms/step - loss: 0.0102 - accuracy: 0.9860 - val_loss: 0.0108 - val_accuracy: 0.9849\n",
      "Epoch 28/30\n",
      "2797/2797 [==============================] - 9s 3ms/step - loss: 0.0101 - accuracy: 0.9861 - val_loss: 0.0090 - val_accuracy: 0.9878\n",
      "Epoch 29/30\n",
      "2797/2797 [==============================] - 9s 3ms/step - loss: 0.0099 - accuracy: 0.9863 - val_loss: 0.0088 - val_accuracy: 0.9879\n",
      "Epoch 30/30\n",
      "2797/2797 [==============================] - 9s 3ms/step - loss: 0.0098 - accuracy: 0.9865 - val_loss: 0.0087 - val_accuracy: 0.9882\n"
     ]
    }
   ],
   "source": [
    "# Simple 4 Layer Dense Model\n",
    "model = Sequential()\n",
    "model.add(Dense(128, input_dim=_features, activation='relu'))\n",
    "model.add(Dropout(0.1))\n",
    "model.add(Dense(256, activation='relu'))\n",
    "model.add(Dropout(0.1))\n",
    "model.add(Dense(128, activation='relu'))\n",
    "model.add(Dropout(0.1))\n",
    "model.add(Dense(n_classes, kernel_initializer='normal'))\n",
    "model.add(Dense(n_classes))\n",
    "model.add(Activation('softmax'))\n",
    "model.summary() \n",
    "\n",
    "opt = keras.optimizers.Adam(learning_rate=0.0001)\n",
    "model.compile(loss='BinaryCrossentropy', optimizer=opt, metrics=['accuracy'])\n",
    "\n",
    "early_stop_callback = keras.callbacks.EarlyStopping(monitor='loss', patience=5)\n",
    "reduce_lr = keras.callbacks.ReduceLROnPlateau(monitor='val_loss', factor=0.2,\n",
    "                                  patience=3, min_lr=0.001)\n",
    "    \n",
    "history = model.fit(X_train, y_train,\n",
    "                              batch_size=128,\n",
    "                              epochs=30,\n",
    "                              verbose=True, #,callbacks=[reduce_lr, early_stop_callback],\n",
    "                              validation_data=(X_valid, y_valid))"
   ]
  },
  {
   "cell_type": "code",
   "execution_count": 12,
   "id": "cb7e6190-fe81-4df6-9426-2b678cf88703",
   "metadata": {
    "tags": []
   },
   "outputs": [
    {
     "name": "stdout",
     "output_type": "stream",
     "text": [
      "4475/4475 [==============================] - 5s 1ms/step - loss: 0.0086 - accuracy: 0.9885\n",
      "4475/4475 [==============================] - 4s 889us/step\n",
      "Inference time: 5.76 seconds\n",
      "Completed\n",
      "Time taken: 0:00:10.576512\n",
      "Validation score: 0.9884620757088979\n",
      "Evaluation score: [0.008592799305915833, 0.9884620904922485]\n",
      "Recall score: 0.8299792056415939\n",
      "Precision score: 0.8758417920605736\n",
      "F1 Measure score: 0.828648565098707\n",
      "ROC-AUC score: 0.9139473002724398\n"
     ]
    }
   ],
   "source": [
    "import datetime as dt\n",
    "from sklearn.metrics import accuracy_score, confusion_matrix, precision_score, recall_score, f1_score, roc_auc_score\n",
    "from sklearn import preprocessing\n",
    "import time\n",
    "\n",
    "start = dt.datetime.now()\n",
    "escore = model.evaluate(X_test, y_test, batch_size=32)\n",
    "\n",
    "# Measure inference time\n",
    "start_time = time.time()\n",
    "pred = model.predict(X_test)\n",
    "end_time = time.time()\n",
    "\n",
    "inference_time = end_time - start_time\n",
    "print(\"Inference time: {:.2f} seconds\".format(inference_time))\n",
    "pred = np.argmax(pred,axis=1)\n",
    "y_eval = np.argmax(y_test,axis=1)\n",
    "\n",
    "score = metrics.accuracy_score(y_eval, pred)\n",
    "rscore = recall_score(y_eval, pred, average='macro')\n",
    "ascore = precision_score(y_eval, pred, average='macro')\n",
    "f1score= f1_score(y_eval, pred, average='macro') #F1 = 2 * (precision * recall) / (precision + recall) for manual\n",
    "\n",
    "lb = preprocessing.LabelBinarizer()\n",
    "lb.fit(y_eval)\n",
    "y_eval = lb.transform(y_eval)\n",
    "pred = lb.transform(pred)\n",
    "roc_score = roc_auc_score(y_eval, pred)\n",
    "#roc_auc_socre = multiclass_roc_auc_score(y_eval, pred)\n",
    "\n",
    "print('Completed')\n",
    "print('Time taken:',dt.datetime.now()-start)\n",
    "\n",
    "print(\"Validation score: {}\".format(score))\n",
    "print(\"Evaluation score: {}\".format(escore))\n",
    "print(\"Recall score: {}\".format(rscore))\n",
    "print(\"Precision score: {}\".format(ascore))\n",
    "print(\"F1 Measure score: {}\".format(f1score))\n",
    "print(\"ROC-AUC score: {}\".format(roc_score))"
   ]
  },
  {
   "cell_type": "markdown",
   "id": "647be8fc-3cdc-43c3-a9dd-f9a9ace574f7",
   "metadata": {},
   "source": [
    "## CNN"
   ]
  },
  {
   "cell_type": "code",
   "execution_count": 105,
   "id": "436d53d5-9b9a-4002-a6c8-0e9c27ee03e8",
   "metadata": {
    "tags": []
   },
   "outputs": [],
   "source": [
    "# In order to ignore FutureWarning\n",
    "import warnings\n",
    "warnings.simplefilter(action='ignore', category=FutureWarning)\n",
    "warnings.simplefilter(action='ignore', category=DeprecationWarning)\n",
    "\n",
    "from keras.models import Sequential\n",
    "from keras import callbacks\n",
    "from keras.layers import Dense, Activation, Flatten, Convolution1D, Dropout, LSTM\n",
    "from sklearn import metrics\n",
    "import uuid\n",
    "import gc\n",
    "from tensorflow import keras\n",
    "import tensorflow as tf\n",
    "\n",
    "K = keras.backend"
   ]
  },
  {
   "cell_type": "code",
   "execution_count": 106,
   "id": "b8b7f2e7-99be-4706-9343-bfeb59a29151",
   "metadata": {
    "tags": []
   },
   "outputs": [
    {
     "name": "stdout",
     "output_type": "stream",
     "text": [
      "Model: \"sequential_11\"\n",
      "_________________________________________________________________\n",
      " Layer (type)                Output Shape              Param #   \n",
      "=================================================================\n",
      " conv1d_10 (Conv1D)          (None, 62, 128)           896       \n",
      "                                                                 \n",
      " activation_20 (Activation)  (None, 62, 128)           0         \n",
      "                                                                 \n",
      " conv1d_11 (Conv1D)          (None, 57, 256)           196864    \n",
      "                                                                 \n",
      " activation_21 (Activation)  (None, 57, 256)           0         \n",
      "                                                                 \n",
      " flatten_5 (Flatten)         (None, 14592)             0         \n",
      "                                                                 \n",
      " dense_31 (Dense)            (None, 256)               3735808   \n",
      "                                                                 \n",
      " dropout_18 (Dropout)        (None, 256)               0         \n",
      "                                                                 \n",
      " dense_32 (Dense)            (None, 7)                 1799      \n",
      "                                                                 \n",
      " activation_22 (Activation)  (None, 7)                 0         \n",
      "                                                                 \n",
      "=================================================================\n",
      "Total params: 3935367 (15.01 MB)\n",
      "Trainable params: 3935367 (15.01 MB)\n",
      "Non-trainable params: 0 (0.00 Byte)\n",
      "_________________________________________________________________\n",
      "Epoch 1/30\n",
      "2797/2797 [==============================] - 262s 94ms/step - loss: 0.1182 - accuracy: 0.9608 - val_loss: 0.0724 - val_accuracy: 0.9723\n",
      "Epoch 2/30\n",
      "2797/2797 [==============================] - 260s 93ms/step - loss: 0.0687 - accuracy: 0.9737 - val_loss: 0.0568 - val_accuracy: 0.9791\n",
      "Epoch 3/30\n",
      "2797/2797 [==============================] - 258s 92ms/step - loss: 0.0586 - accuracy: 0.9774 - val_loss: 0.0540 - val_accuracy: 0.9783\n",
      "Epoch 4/30\n",
      "2797/2797 [==============================] - 258s 92ms/step - loss: 0.0530 - accuracy: 0.9790 - val_loss: 0.0481 - val_accuracy: 0.9848\n",
      "Epoch 5/30\n",
      "2797/2797 [==============================] - 260s 93ms/step - loss: 0.0488 - accuracy: 0.9805 - val_loss: 0.0430 - val_accuracy: 0.9831\n",
      "Epoch 6/30\n",
      "2797/2797 [==============================] - 256s 91ms/step - loss: 0.0457 - accuracy: 0.9816 - val_loss: 0.0407 - val_accuracy: 0.9862\n",
      "Epoch 7/30\n",
      "2797/2797 [==============================] - 247s 88ms/step - loss: 0.0433 - accuracy: 0.9830 - val_loss: 0.0394 - val_accuracy: 0.9876\n",
      "Epoch 8/30\n",
      "2797/2797 [==============================] - 254s 91ms/step - loss: 0.0404 - accuracy: 0.9842 - val_loss: 0.0388 - val_accuracy: 0.9843\n",
      "Epoch 9/30\n",
      "2797/2797 [==============================] - 249s 89ms/step - loss: 0.0382 - accuracy: 0.9850 - val_loss: 0.0365 - val_accuracy: 0.9854\n",
      "Epoch 10/30\n",
      "2797/2797 [==============================] - 246s 88ms/step - loss: 0.0366 - accuracy: 0.9855 - val_loss: 0.0341 - val_accuracy: 0.9874\n",
      "Epoch 11/30\n",
      "2797/2797 [==============================] - 239s 86ms/step - loss: 0.0352 - accuracy: 0.9861 - val_loss: 0.0341 - val_accuracy: 0.9884\n",
      "Epoch 12/30\n",
      "2797/2797 [==============================] - 240s 86ms/step - loss: 0.0344 - accuracy: 0.9863 - val_loss: 0.0311 - val_accuracy: 0.9875\n",
      "Epoch 13/30\n",
      "2797/2797 [==============================] - 239s 85ms/step - loss: 0.0329 - accuracy: 0.9869 - val_loss: 0.0315 - val_accuracy: 0.9865\n",
      "Epoch 14/30\n",
      "2797/2797 [==============================] - 249s 89ms/step - loss: 0.0326 - accuracy: 0.9871 - val_loss: 0.0312 - val_accuracy: 0.9876\n",
      "Epoch 15/30\n",
      "2797/2797 [==============================] - 245s 88ms/step - loss: 0.0318 - accuracy: 0.9873 - val_loss: 0.0388 - val_accuracy: 0.9855\n",
      "Epoch 16/30\n",
      "2797/2797 [==============================] - 251s 90ms/step - loss: 0.0311 - accuracy: 0.9876 - val_loss: 0.0291 - val_accuracy: 0.9886\n",
      "Epoch 17/30\n",
      "2797/2797 [==============================] - 247s 88ms/step - loss: 0.0307 - accuracy: 0.9876 - val_loss: 0.0288 - val_accuracy: 0.9880\n",
      "Epoch 18/30\n",
      "2797/2797 [==============================] - 251s 90ms/step - loss: 0.0301 - accuracy: 0.9879 - val_loss: 0.0287 - val_accuracy: 0.9882\n",
      "Epoch 19/30\n",
      "2797/2797 [==============================] - 251s 90ms/step - loss: 0.0299 - accuracy: 0.9878 - val_loss: 0.0306 - val_accuracy: 0.9882\n",
      "Epoch 20/30\n",
      "2797/2797 [==============================] - 255s 91ms/step - loss: 0.0294 - accuracy: 0.9880 - val_loss: 0.0273 - val_accuracy: 0.9896\n",
      "Epoch 21/30\n",
      "2797/2797 [==============================] - 255s 91ms/step - loss: 0.0290 - accuracy: 0.9882 - val_loss: 0.0309 - val_accuracy: 0.9874\n",
      "Epoch 22/30\n",
      "2797/2797 [==============================] - 249s 89ms/step - loss: 0.0288 - accuracy: 0.9883 - val_loss: 0.0279 - val_accuracy: 0.9891\n",
      "Epoch 23/30\n",
      "2797/2797 [==============================] - 251s 90ms/step - loss: 0.0284 - accuracy: 0.9885 - val_loss: 0.0264 - val_accuracy: 0.9895\n",
      "Epoch 24/30\n",
      "2797/2797 [==============================] - 251s 90ms/step - loss: 0.0282 - accuracy: 0.9885 - val_loss: 0.0260 - val_accuracy: 0.9901\n",
      "Epoch 25/30\n",
      "2797/2797 [==============================] - 254s 91ms/step - loss: 0.0281 - accuracy: 0.9885 - val_loss: 0.0263 - val_accuracy: 0.9899\n",
      "Epoch 26/30\n",
      "2797/2797 [==============================] - 259s 93ms/step - loss: 0.0276 - accuracy: 0.9887 - val_loss: 0.0278 - val_accuracy: 0.9899\n",
      "Epoch 27/30\n",
      "2797/2797 [==============================] - 246s 88ms/step - loss: 0.0274 - accuracy: 0.9886 - val_loss: 0.0270 - val_accuracy: 0.9887\n",
      "Epoch 28/30\n",
      "2797/2797 [==============================] - 251s 90ms/step - loss: 0.0270 - accuracy: 0.9888 - val_loss: 0.0260 - val_accuracy: 0.9904\n",
      "Epoch 29/30\n",
      "2797/2797 [==============================] - 252s 90ms/step - loss: 0.0266 - accuracy: 0.9890 - val_loss: 0.0294 - val_accuracy: 0.9891\n",
      "Epoch 30/30\n",
      "2797/2797 [==============================] - 252s 90ms/step - loss: 0.0264 - accuracy: 0.9889 - val_loss: 0.0359 - val_accuracy: 0.9862\n"
     ]
    }
   ],
   "source": [
    "# CNN Model\n",
    "model = Sequential()\n",
    "model.add(Convolution1D(filters=128, kernel_size=6, input_shape=(_features, 1)))\n",
    "model.add(Activation('relu'))\n",
    "model.add(Convolution1D(filters=256, kernel_size=6))\n",
    "model.add(Activation('relu'))\n",
    "model.add(Flatten())\n",
    "model.add(Dense(256, activation='relu'))\n",
    "model.add(Dropout(0.1))\n",
    "model.add(Dense(n_classes))\n",
    "model.add(Activation('softmax'))\n",
    "model.summary() \n",
    "\n",
    "opt = keras.optimizers.Adam(learning_rate=0.0001)\n",
    "model.compile(loss='categorical_crossentropy',optimizer=opt, metrics=['accuracy'])\n",
    "\n",
    "early_stop_callback = keras.callbacks.EarlyStopping(monitor='loss', patience=5)\n",
    "reduce_lr = keras.callbacks.ReduceLROnPlateau(monitor='val_loss', factor=0.2,\n",
    "                                  patience=3, min_lr=0.0001)\n",
    "    \n",
    "history = model.fit(X_train, y_train,\n",
    "                              batch_size=128,\n",
    "                              epochs=30,\n",
    "                              verbose=True, #callbacks=[reduce_lr, early_stop_callback],\n",
    "                              validation_data=(X_test, y_test))  "
   ]
  },
  {
   "cell_type": "code",
   "execution_count": 108,
   "id": "d3e06baa-e6a7-4d0c-b558-1ad1fba7ff2f",
   "metadata": {
    "tags": []
   },
   "outputs": [
    {
     "name": "stdout",
     "output_type": "stream",
     "text": [
      "4475/4475 [==============================] - 26s 6ms/step - loss: 0.0359 - accuracy: 0.9862\n",
      "4475/4475 [==============================] - 24s 5ms/step\n",
      "Inference time: 25.36 seconds\n",
      "Completed\n",
      "Time taken: 0:00:51.684696\n",
      "Validation score: 0.986199189830982\n",
      "Evaluation score: [0.035937633365392685, 0.9861992001533508]\n",
      "Recall score: 0.7834073549625622\n",
      "Precision score: 0.9320110607801403\n",
      "F1 Measure score: 0.8162118953322199\n",
      "ROC-AUC score: 0.8902639364492294\n"
     ]
    }
   ],
   "source": [
    "import datetime as dt\n",
    "from sklearn.metrics import accuracy_score, confusion_matrix, precision_score, recall_score, f1_score, roc_auc_score\n",
    "from sklearn import preprocessing\n",
    "import time\n",
    "\n",
    "start = dt.datetime.now()\n",
    "\n",
    "escore = model.evaluate(X_test, y_test, batch_size=32)\n",
    "\n",
    "\n",
    "# Measure inference time\n",
    "start_time = time.time()\n",
    "pred = model.predict(X_test)\n",
    "end_time = time.time()\n",
    "\n",
    "inference_time = end_time - start_time\n",
    "print(\"Inference time: {:.2f} seconds\".format(inference_time))\n",
    "\n",
    "\n",
    "pred = np.argmax(pred,axis=1)\n",
    "y_eval = np.argmax(y_test,axis=1)\n",
    "\n",
    "score = metrics.accuracy_score(y_eval, pred)\n",
    "rscore = recall_score(y_eval, pred, average='macro')\n",
    "ascore = precision_score(y_eval, pred, average='macro')\n",
    "f1score= f1_score(y_eval, pred, average='macro') #F1 = 2 * (precision * recall) / (precision + recall) for manual\n",
    "\n",
    "lb = preprocessing.LabelBinarizer()\n",
    "lb.fit(y_eval)\n",
    "y_eval = lb.transform(y_eval)\n",
    "pred = lb.transform(pred)\n",
    "roc_score = roc_auc_score(y_eval, pred)\n",
    "#roc_auc_socre = multiclass_roc_auc_score(y_eval, pred)\n",
    "\n",
    "print('Completed')\n",
    "print('Time taken:',dt.datetime.now()-start)\n",
    "\n",
    "print(\"Validation score: {}\".format(score))\n",
    "print(\"Evaluation score: {}\".format(escore))\n",
    "print(\"Recall score: {}\".format(rscore))\n",
    "print(\"Precision score: {}\".format(ascore))\n",
    "print(\"F1 Measure score: {}\".format(f1score))\n",
    "print(\"ROC-AUC score: {}\".format(roc_score))"
   ]
  },
  {
   "cell_type": "code",
   "execution_count": null,
   "id": "0fad81a0-0428-4676-99e1-282ae10f0910",
   "metadata": {},
   "outputs": [],
   "source": [
    "CNN \\cite{salmi2023performance} & 98.62 & 93.20 & 78.34 & 81.62 & 25.36s \\\\ \\hline"
   ]
  },
  {
   "cell_type": "markdown",
   "id": "9cb9ecad-d5fb-4e68-b6c9-fa72f556948d",
   "metadata": {},
   "source": [
    "## GRU"
   ]
  },
  {
   "cell_type": "code",
   "execution_count": 62,
   "id": "87142ecd-66b2-4b96-9951-4ff316ab631b",
   "metadata": {
    "tags": []
   },
   "outputs": [
    {
     "name": "stdout",
     "output_type": "stream",
     "text": [
      "Model: \"sequential_4\"\n",
      "_________________________________________________________________\n",
      " Layer (type)                Output Shape              Param #   \n",
      "=================================================================\n",
      " gru (GRU)                   (None, 128)               50304     \n",
      "                                                                 \n",
      " dropout_7 (Dropout)         (None, 128)               0         \n",
      "                                                                 \n",
      " dense_12 (Dense)            (None, 4)                 516       \n",
      "                                                                 \n",
      " activation_5 (Activation)   (None, 4)                 0         \n",
      "                                                                 \n",
      "=================================================================\n",
      "Total params: 50820 (198.52 KB)\n",
      "Trainable params: 50820 (198.52 KB)\n",
      "Non-trainable params: 0 (0.00 Byte)\n",
      "_________________________________________________________________\n",
      "Epoch 1/30\n",
      "1220/1220 [==============================] - 19s 14ms/step - loss: 0.2778 - accuracy: 0.9306 - val_loss: 0.2310 - val_accuracy: 0.9381\n",
      "Epoch 2/30\n",
      "1220/1220 [==============================] - 17s 14ms/step - loss: 0.2152 - accuracy: 0.9367 - val_loss: 0.2012 - val_accuracy: 0.9364\n",
      "Epoch 3/30\n",
      "1220/1220 [==============================] - 18s 15ms/step - loss: 0.1848 - accuracy: 0.9393 - val_loss: 0.1841 - val_accuracy: 0.9334\n",
      "Epoch 4/30\n",
      "1220/1220 [==============================] - 18s 14ms/step - loss: 0.1652 - accuracy: 0.9418 - val_loss: 0.1572 - val_accuracy: 0.9428\n",
      "Epoch 5/30\n",
      "1220/1220 [==============================] - 18s 15ms/step - loss: 0.1477 - accuracy: 0.9478 - val_loss: 0.1346 - val_accuracy: 0.9486\n",
      "Epoch 6/30\n",
      "1220/1220 [==============================] - 18s 15ms/step - loss: 0.1391 - accuracy: 0.9502 - val_loss: 0.1161 - val_accuracy: 0.9589\n",
      "Epoch 7/30\n",
      "1220/1220 [==============================] - 18s 15ms/step - loss: 0.1282 - accuracy: 0.9539 - val_loss: 0.1280 - val_accuracy: 0.9502\n",
      "Epoch 8/30\n",
      "1220/1220 [==============================] - 18s 14ms/step - loss: 0.1235 - accuracy: 0.9547 - val_loss: 0.1141 - val_accuracy: 0.9545\n",
      "Epoch 9/30\n",
      "1220/1220 [==============================] - 18s 15ms/step - loss: 0.1181 - accuracy: 0.9559 - val_loss: 0.1143 - val_accuracy: 0.9576\n",
      "Epoch 10/30\n",
      "1220/1220 [==============================] - 18s 14ms/step - loss: 0.1124 - accuracy: 0.9569 - val_loss: 0.1091 - val_accuracy: 0.9563\n",
      "Epoch 11/30\n",
      "1220/1220 [==============================] - 19s 15ms/step - loss: 0.1045 - accuracy: 0.9581 - val_loss: 0.0989 - val_accuracy: 0.9605\n",
      "Epoch 12/30\n",
      "1220/1220 [==============================] - 18s 15ms/step - loss: 0.1003 - accuracy: 0.9586 - val_loss: 0.0753 - val_accuracy: 0.9629\n",
      "Epoch 13/30\n",
      "1220/1220 [==============================] - 18s 15ms/step - loss: 0.0931 - accuracy: 0.9611 - val_loss: 0.0821 - val_accuracy: 0.9582\n",
      "Epoch 14/30\n",
      "1220/1220 [==============================] - 18s 14ms/step - loss: 0.0861 - accuracy: 0.9638 - val_loss: 0.0856 - val_accuracy: 0.9648\n",
      "Epoch 15/30\n",
      "1220/1220 [==============================] - 18s 15ms/step - loss: 0.0797 - accuracy: 0.9665 - val_loss: 0.0954 - val_accuracy: 0.9667\n",
      "Epoch 16/30\n",
      "1220/1220 [==============================] - 18s 15ms/step - loss: 0.0752 - accuracy: 0.9708 - val_loss: 0.1244 - val_accuracy: 0.9466\n",
      "Epoch 17/30\n",
      "1220/1220 [==============================] - 17s 14ms/step - loss: 0.0731 - accuracy: 0.9720 - val_loss: 0.0813 - val_accuracy: 0.9673\n",
      "Epoch 18/30\n",
      "1220/1220 [==============================] - 18s 14ms/step - loss: 0.0646 - accuracy: 0.9753 - val_loss: 0.0642 - val_accuracy: 0.9789\n",
      "Epoch 19/30\n",
      "1220/1220 [==============================] - 18s 14ms/step - loss: 0.0657 - accuracy: 0.9757 - val_loss: 0.0600 - val_accuracy: 0.9752\n",
      "Epoch 20/30\n",
      "1220/1220 [==============================] - 18s 14ms/step - loss: 0.0605 - accuracy: 0.9762 - val_loss: 0.0845 - val_accuracy: 0.9681\n",
      "Epoch 21/30\n",
      "1220/1220 [==============================] - 18s 14ms/step - loss: 0.0662 - accuracy: 0.9769 - val_loss: 0.0512 - val_accuracy: 0.9761\n",
      "Epoch 22/30\n",
      "1220/1220 [==============================] - 18s 14ms/step - loss: 0.0584 - accuracy: 0.9773 - val_loss: 0.0713 - val_accuracy: 0.9676\n",
      "Epoch 23/30\n",
      "1220/1220 [==============================] - 18s 14ms/step - loss: 0.0544 - accuracy: 0.9800 - val_loss: 0.0799 - val_accuracy: 0.9630\n",
      "Epoch 24/30\n",
      "1220/1220 [==============================] - 18s 15ms/step - loss: 0.0530 - accuracy: 0.9803 - val_loss: 0.1560 - val_accuracy: 0.9351\n",
      "Epoch 25/30\n",
      "1220/1220 [==============================] - 18s 15ms/step - loss: 0.0552 - accuracy: 0.9806 - val_loss: 0.0418 - val_accuracy: 0.9880\n",
      "Epoch 26/30\n",
      "1220/1220 [==============================] - 18s 15ms/step - loss: 0.0564 - accuracy: 0.9793 - val_loss: 0.0587 - val_accuracy: 0.9732\n",
      "Epoch 27/30\n",
      "1220/1220 [==============================] - 18s 14ms/step - loss: 0.0473 - accuracy: 0.9832 - val_loss: 0.0604 - val_accuracy: 0.9663\n",
      "Epoch 28/30\n",
      "1220/1220 [==============================] - 18s 15ms/step - loss: 0.0546 - accuracy: 0.9809 - val_loss: 0.0316 - val_accuracy: 0.9868\n",
      "Epoch 29/30\n",
      "1220/1220 [==============================] - 17s 14ms/step - loss: 0.0508 - accuracy: 0.9826 - val_loss: 0.0823 - val_accuracy: 0.9669\n",
      "Epoch 30/30\n",
      "1220/1220 [==============================] - 18s 15ms/step - loss: 0.0525 - accuracy: 0.9835 - val_loss: 0.0884 - val_accuracy: 0.9699\n"
     ]
    }
   ],
   "source": [
    "# GRU Model\n",
    "model = Sequential()\n",
    "model.add(GRU(128, activation='relu', dropout=0.01, input_shape=(_features, 1)))\n",
    "model.add(Dropout(0.1))\n",
    "model.add(Dense(n_classes))\n",
    "model.add(Activation('softmax'))\n",
    "model.summary() \n",
    "\n",
    "opt = keras.optimizers.Adam(learning_rate=0.001)\n",
    "model.compile(loss='categorical_crossentropy',optimizer=opt, metrics=['accuracy'])\n",
    "\n",
    "early_stop_callback = keras.callbacks.EarlyStopping(monitor='loss', patience=5)\n",
    "reduce_lr = keras.callbacks.ReduceLROnPlateau(monitor='val_loss', factor=0.2,\n",
    "                                  patience=3, min_lr=0.0001)\n",
    "    \n",
    "history = model.fit(X_train, y_train,\n",
    "                              batch_size=128,\n",
    "                              epochs=30,\n",
    "                              verbose=True, #callbacks=[reduce_lr, early_stop_callback],\n",
    "                              validation_data=(X_test, y_test))  "
   ]
  },
  {
   "cell_type": "code",
   "execution_count": 63,
   "id": "3e4b651a-94aa-47f2-b6f6-68a630a3bbf3",
   "metadata": {
    "tags": []
   },
   "outputs": [
    {
     "name": "stdout",
     "output_type": "stream",
     "text": [
      "1951/1951 [==============================] - 5s 3ms/step - loss: 0.0884 - accuracy: 0.9699\n",
      "1951/1951 [==============================] - 5s 3ms/step\n",
      "Inference time: 5.91 seconds\n",
      "Completed\n",
      "Time taken: 0:00:11.292533\n",
      "Validation score: 0.9698819307604812\n",
      "Evaluation score: [0.0884399488568306, 0.9698819518089294]\n",
      "Recall score: 0.9698819307604812\n",
      "Precision score: 0.9685565761414147\n",
      "F1 Measure score: 0.9689897167505263\n",
      "ROC-AUC score: 0.9090036959885514\n"
     ]
    }
   ],
   "source": [
    "import datetime as dt\n",
    "from sklearn.metrics import accuracy_score, confusion_matrix, precision_score, recall_score, f1_score, roc_auc_score\n",
    "from sklearn import preprocessing\n",
    "import time\n",
    "\n",
    "start = dt.datetime.now()\n",
    "escore = model.evaluate(X_test, y_test, batch_size=32)\n",
    "\n",
    "# Measure inference time\n",
    "start_time = time.time()\n",
    "pred = model.predict(X_test)\n",
    "end_time = time.time()\n",
    "\n",
    "inference_time = end_time - start_time\n",
    "print(\"Inference time: {:.2f} seconds\".format(inference_time))\n",
    "pred = np.argmax(pred,axis=1)\n",
    "y_eval = np.argmax(y_test,axis=1)\n",
    "\n",
    "score = metrics.accuracy_score(y_eval, pred)\n",
    "rscore = recall_score(y_eval, pred, average='weighted')\n",
    "ascore = precision_score(y_eval, pred, average='weighted')\n",
    "f1score= f1_score(y_eval, pred, average='weighted') #F1 = 2 * (precision * recall) / (precision + recall) for manual\n",
    "\n",
    "lb = preprocessing.LabelBinarizer()\n",
    "lb.fit(y_eval)\n",
    "y_eval = lb.transform(y_eval)\n",
    "pred = lb.transform(pred)\n",
    "roc_score = roc_auc_score(y_eval, pred)\n",
    "#roc_auc_socre = multiclass_roc_auc_score(y_eval, pred)\n",
    "\n",
    "print('Completed')\n",
    "print('Time taken:',dt.datetime.now()-start)\n",
    "\n",
    "print(\"Validation score: {}\".format(score))\n",
    "print(\"Evaluation score: {}\".format(escore))\n",
    "print(\"Recall score: {}\".format(rscore))\n",
    "print(\"Precision score: {}\".format(ascore))\n",
    "print(\"F1 Measure score: {}\".format(f1score))\n",
    "print(\"ROC-AUC score: {}\".format(roc_score))"
   ]
  },
  {
   "cell_type": "code",
   "execution_count": null,
   "id": "10303e22-dfd6-4218-ac78-bc193736dce8",
   "metadata": {},
   "outputs": [],
   "source": []
  }
 ],
 "metadata": {
  "kernelspec": {
   "display_name": "Python 3 (ipykernel)",
   "language": "python",
   "name": "python3"
  },
  "language_info": {
   "codemirror_mode": {
    "name": "ipython",
    "version": 3
   },
   "file_extension": ".py",
   "mimetype": "text/x-python",
   "name": "python",
   "nbconvert_exporter": "python",
   "pygments_lexer": "ipython3",
   "version": "3.11.4"
  }
 },
 "nbformat": 4,
 "nbformat_minor": 5
}
